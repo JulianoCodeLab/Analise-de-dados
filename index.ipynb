{
 "cells": [
  {
   "cell_type": "code",
   "execution_count": 1,
   "metadata": {},
   "outputs": [],
   "source": [
    "import dash                                                     #Gerencia a dashboard e cria o servidor \n",
    "from dash import dcc                                            #resonsavel por todos os componentes uteis na dash\n",
    "from dash import html                                           #Permite colocar codigos html na dash\n",
    "from dash.dependencies import Input, Output                     #Permite interação com o usuario\n",
    "import dash_bootstrap_components as dbc                         #Permite utilizar html,css e JS para formatar a interface web"
   ]
  },
  {
   "cell_type": "code",
   "execution_count": 2,
   "metadata": {},
   "outputs": [],
   "source": [
    "import plotly.express as px                                     #Permite criação dos graficos dos plotly de forma mais faceis\n",
    "import plotly.graph_objects as go                               #Nos da mais controle sobre as ferranentas plotly"
   ]
  },
  {
   "cell_type": "code",
   "execution_count": 3,
   "metadata": {},
   "outputs": [],
   "source": [
    "import numpy as np                                              #Oferece  suporte oara array, coleção de funções matematicas etc.\n",
    "import json                                                     #Para leitura de dados \".json\"\n",
    "import pandas as pd"
   ]
  },
  {
   "cell_type": "code",
   "execution_count": 6,
   "metadata": {},
   "outputs": [],
   "source": [
    "df = pd.read_csv('HIST_PAINEL_COVIDBR_13mai2021.csv', sep= ';')"
   ]
  },
  {
   "cell_type": "code",
   "execution_count": null,
   "metadata": {},
   "outputs": [],
   "source": [
    "print(df)"
   ]
  }
 ],
 "metadata": {
  "kernelspec": {
   "display_name": "venv",
   "language": "python",
   "name": "python3"
  },
  "language_info": {
   "codemirror_mode": {
    "name": "ipython",
    "version": 3
   },
   "file_extension": ".py",
   "mimetype": "text/x-python",
   "name": "python",
   "nbconvert_exporter": "python",
   "pygments_lexer": "ipython3",
   "version": "3.12.3"
  }
 },
 "nbformat": 4,
 "nbformat_minor": 2
}
